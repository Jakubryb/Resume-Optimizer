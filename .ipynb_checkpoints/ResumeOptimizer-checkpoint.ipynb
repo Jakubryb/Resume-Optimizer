{
 "cells": [
  {
   "cell_type": "markdown",
   "id": "53795706-d227-4139-b728-24993a1cc189",
   "metadata": {
    "tags": []
   },
   "source": [
    "# Resume Optimization"
   ]
  },
  {
   "cell_type": "markdown",
   "id": "c8dbd506-39c2-400d-a9e1-3b94202ad906",
   "metadata": {},
   "source": [
    "## Overview"
   ]
  },
  {
   "cell_type": "markdown",
   "id": "be3b9e8d-817c-4f21-9ac8-d5969dfb7917",
   "metadata": {},
   "source": [
    "The goal of the project is to tailor a resume to the data science field to improve it's rating in a compnaies applicant tracking system to increase the odds of scoring an interview. This was done by scraping resumes from Indeed and recent job posts for data scientists/analysts positions from Indeed and Glassdoor. NLP preprocessing was applied to the resumes as well as my own. Modeling was done through TF-IDF and Latent Dirichlet Allocation. From there I measured the cosine similarity using TF-IDF between my resume and the target fields, the first being the resumes of other data scientist and then against the scraped job posts. By identifying key words and skills and then incorporating them into my resume, the cosine smilarity score increases which in turn should increase my ranking within a companies tracking system.\n"
   ]
  },
  {
   "cell_type": "markdown",
   "id": "edadff93-a2df-4365-9348-722af1bffe01",
   "metadata": {},
   "source": [
    "## Business Understanding"
   ]
  },
  {
   "cell_type": "markdown",
   "id": "ba8bbe22-73ce-49cc-bee0-45db1149e9a0",
   "metadata": {},
   "source": [
    "Most companies, especially the big ones, don’t read every resume that they receive. They usually rely on an Applicant Tracking system that will rank applicants for a specific job opening and usually focus on the ones most fitting for the job. As someone who has just completed a data science bootcamp and is undergoing a pretty big career change, It is my hope that I can use what I learned to make my self more hirable by tailoring my resume towards this new field."
   ]
  },
  {
   "cell_type": "markdown",
   "id": "ec128a9b-cc68-491a-bde9-7b2d80d07859",
   "metadata": {},
   "source": [
    "## Methods"
   ]
  },
  {
   "cell_type": "markdown",
   "id": "7fce3333-8b7a-4a53-a9a6-3c51e68ff023",
   "metadata": {},
   "source": [
    "1. Scrape Indeed for Resumes using sellenium. To do this I had purchased Indeeds \"For Employers' subsription for one month in order to have access to candidate resumes\n",
    "2. Use sellenium and beautiful soup to scrape the most recent entry level and junior data scientist/analyst job posts from Glassdoor and Inded.\n",
    "3. Preprocess and clean data by removing stop words,apply stemming etc. This goes for the resumes, job posts and resume being optimized\n",
    "4. TF-IDF and LDA modeling\n",
    "5. Determine Cosine Similarity between my resume and the ones scraped from indeed.\n",
    "6. Modify my resume by adding or modifying key words synonymous with the other resumes\n",
    "7. Determine Cosine Similarity between my resume and the job posts.\n",
    "8. Once again modify my resume to increase the similarity score when scored against the job post data"
   ]
  },
  {
   "cell_type": "markdown",
   "id": "51491f4a-d4f1-4b47-8e72-f8b1cc704719",
   "metadata": {},
   "source": [
    "## Data Understanding"
   ]
  },
  {
   "cell_type": "markdown",
   "id": "8ae5229d-a6a7-4fe0-81b6-dcf077106471",
   "metadata": {},
   "source": [
    "The data for the project was scraped using mostly selenium, beautiful soup, and APIs.\n",
    "\n",
    "In total I was able to scrape over 8000 Data Scientist Resumes from Indeed, however only about 4,000 were usable. There were many that were just the skeleton of a resume, and others were resumes of people that are in a completely unrelated field. These resumes were pulled in the form of pdfs. \n",
    "\n",
    "Approximately 600 recent job posts for entry and junior level data scientist were also sccraped from Glassdoor. These were pulled into a single csv file.\n",
    "\n",
    "NLP Preprocessing was conducted to extract key words or phrases and their significance throughout all the files to the best of my abilities.\n"
   ]
  },
  {
   "cell_type": "markdown",
   "id": "3c53cff0-7205-4931-b3a8-a87a13dc5f01",
   "metadata": {
    "tags": []
   },
   "source": [
    "## Evaluation against other Resumes"
   ]
  },
  {
   "cell_type": "markdown",
   "id": "d06b019a-1a01-4b36-be94-60e1f47c2ee0",
   "metadata": {},
   "source": [
    "Without making changes or looking at other applicants then scoring the resume against all the others resulted in a similarity score of approximately 0.7093\n",
    "\n",
    "Upon modifying against my resume against other data scientist/analyst CV's I was able to raise my similarity score to above 0.8019.\n"
   ]
  },
  {
   "cell_type": "markdown",
   "id": "ee4e04e3-2f5b-4f6b-b9c7-a3e017918388",
   "metadata": {},
   "source": [
    "## Evaluation against job postings and Conclusion "
   ]
  },
  {
   "cell_type": "markdown",
   "id": "29571cbc-6b45-41e2-8cac-3e3846f9dcb0",
   "metadata": {},
   "source": [
    "The increase in similarity scores against other applicants builds a good initial resume, however my goal is not to become identical to another candidate. The purpose of this project is to try and appear as an ideal candidate for the  data scientist jobs I will be applying to. \n",
    "\n",
    "Therefore, we basically have to repeat the entire proces with our new modified resume and tailor it further against the 700 job posts that were scraped\n",
    "\n",
    "Upon scoring the previous resume against these job descriptions, I had wound up with a cosine similarity of 0.7840.\n",
    "\n",
    "Once again modfying my resume so it is more synonymous with the job I am going for, the cosine similarity score rose to a 0.8431. \n",
    "\n",
    "This is at least higher than what I had started with and should make me look as a more favorable applicant when put through a companies ATS system.\n"
   ]
  },
  {
   "cell_type": "code",
   "execution_count": 101,
   "id": "b4970df3-a13b-44d9-b7e4-1a0a748ab904",
   "metadata": {
    "tags": []
   },
   "outputs": [],
   "source": [
    "from sklearn.feature_extraction.text import CountVectorizer\n",
    "from sklearn import feature_extraction, linear_model, model_selection, preprocessing\n",
    "from sklearn.decomposition import LatentDirichletAllocation\n",
    "from sklearn.feature_extraction.text import TfidfVectorizer\n",
    "\n",
    "import nltk\n",
    "from nltk.stem.porter import PorterStemmer\n",
    "from nltk.stem.lancaster import LancasterStemmer\n",
    "from nltk.corpus import stopwords, brown\n",
    "from nltk.tokenize import word_tokenize, sent_tokenize, RegexpTokenizer\n",
    "from nltk.stem import WordNetLemmatizer\n",
    "from gensim import corpora, models, similarities\n",
    "\n",
    "import re\n",
    "import string\n",
    "from autocorrect import spell\n",
    "\n",
    "%matplotlib inline\n",
    "import matplotlib\n",
    "import matplotlib.pyplot as plt\n",
    "\n",
    "import seaborn as sns\n",
    "\n",
    "from collections import defaultdict\n",
    "from time import time\n",
    "from collections import Counter, defaultdict\n",
    "import PyPDF2\n",
    "import textract \n",
    "import pandas as pd\n",
    "import numpy as np\n",
    "from textblob import TextBlob\n",
    "import operator\n",
    "import re\n",
    "import os\n",
    "import csv\n",
    "import pickle"
   ]
  },
  {
   "cell_type": "code",
   "execution_count": 102,
   "id": "83ee27b3-019b-4376-9848-53bafc0798d7",
   "metadata": {},
   "outputs": [],
   "source": [
    "Resumes_df = pd.read_csv('C:\\\\Users\\\\Jakub\\\\Documents\\\\GitHub\\\\Resume-Optimizer\\\\result.csv', low_memory=False)\n",
    "Jobs_df = pd.read_csv('C:\\\\Users\\\\Jakub\\\\Documents\\\\GitHub\\\\Resume-Optimizer\\\\data\\\\Cleaned_DS_Jobs.csv', low_memory=False)\n",
    "My_Resume = pd.read_csv('C:\\\\Users\\\\Jakub\\\\Documents\\\\GitHub\\\\Resume-Optimizer\\\\data\\\\Jakub_Rybicki_Resume.csv', low_memory=False)"
   ]
  },
  {
   "cell_type": "markdown",
   "id": "d7d98c24-909f-403f-aca0-02feacdf891c",
   "metadata": {},
   "source": [
    "### Cleaning"
   ]
  },
  {
   "cell_type": "code",
   "execution_count": 103,
   "id": "85d43fdf-1064-4780-8b4a-6f5326377956",
   "metadata": {},
   "outputs": [],
   "source": [
    "# convert all text to lower case and separate into list\n",
    "Resumes_df['Header'] = Resumes_df['Header'].astype('str')\n",
    "Resumes_df['Header'] = Resumes_df['Header'].str.lower().str.split()\n",
    "listStopWords = list(set(stopwords.words('english')))\n",
    "# remove stopwords\n",
    "Resumes_df['Header'] = Resumes_df['Header'].apply(lambda x: ' '.join([item for item in x if item not in listStopWords]))"
   ]
  },
  {
   "cell_type": "code",
   "execution_count": 104,
   "id": "24ac5289-9d7e-4e05-bc01-f1bbca8223a1",
   "metadata": {},
   "outputs": [
    {
     "name": "stderr",
     "output_type": "stream",
     "text": [
      "C:\\Users\\Jakub\\AppData\\Local\\Temp/ipykernel_9892/4119998814.py:1: FutureWarning: The default value of regex will change from True to False in a future version.\n",
      "  Resumes_df['Header'] = Resumes_df['Header'].str.replace(r'''[^0-9a-zA-Z ]+''', '')\n"
     ]
    }
   ],
   "source": [
    "Resumes_df['Header'] = Resumes_df['Header'].str.replace(r'''[^0-9a-zA-Z ]+''', '')"
   ]
  },
  {
   "cell_type": "code",
   "execution_count": 105,
   "id": "8a1cc0ec-223e-4851-b290-3e1a7e182a7e",
   "metadata": {},
   "outputs": [
    {
     "name": "stderr",
     "output_type": "stream",
     "text": [
      "C:\\Users\\Jakub\\AppData\\Local\\Temp/ipykernel_9892/867809033.py:1: FutureWarning: The default value of regex will change from True to False in a future version.\n",
      "  Resumes_df['Header'] = Resumes_df['Header'].str.replace(':|;', '')\n",
      "C:\\Users\\Jakub\\AppData\\Local\\Temp/ipykernel_9892/867809033.py:2: FutureWarning: The default value of regex will change from True to False in a future version. In addition, single character regular expressions will *not* be treated as literal strings when regex=True.\n",
      "  Resumes_df['Header'] = Resumes_df['Header'].str.replace('.', '')\n"
     ]
    }
   ],
   "source": [
    "Resumes_df['Header'] = Resumes_df['Header'].str.replace(':|;', '')\n",
    "Resumes_df['Header'] = Resumes_df['Header'].str.replace('.', '')\n",
    "Resumes_df['Header'] = Resumes_df['Header'].str.replace(',', '')"
   ]
  },
  {
   "cell_type": "code",
   "execution_count": 106,
   "id": "a8634f14-213a-473c-a348-979538d3db65",
   "metadata": {},
   "outputs": [],
   "source": [
    "Resumes_df['Header']=Resumes_df['Header'].str.replace('email', '')\n",
    "Resumes_df['Header']=Resumes_df['Header'].str.replace('%@%', '')\n",
    "Resumes_df['Header']=Resumes_df['Header'].str.replace('using', '')\n",
    "Resumes_df['Header']=Resumes_df['Header'].str.replace('2021', '')\n",
    "Resumes_df['Header']=Resumes_df['Header'].str.replace('2020', '')\n",
    "Resumes_df['Header']=Resumes_df['Header'].str.replace('2019', '')\n",
    "Resumes_df['Header']=Resumes_df['Header'].str.replace('january', '')\n",
    "Resumes_df['Header']=Resumes_df['Header'].str.replace('february', '')\n",
    "Resumes_df['Header']=Resumes_df['Header'].str.replace('march', '')\n",
    "Resumes_df['Header']=Resumes_df['Header'].str.replace('april', '')\n",
    "Resumes_df['Header']=Resumes_df['Header'].str.replace('may', '')\n",
    "Resumes_df['Header']=Resumes_df['Header'].str.replace('june', '')\n",
    "Resumes_df['Header']=Resumes_df['Header'].str.replace('july', '')\n",
    "Resumes_df['Header']=Resumes_df['Header'].str.replace('august', '')\n",
    "Resumes_df['Header']=Resumes_df['Header'].str.replace('september', '')\n",
    "Resumes_df['Header']=Resumes_df['Header'].str.replace('october', '')\n",
    "Resumes_df['Header']=Resumes_df['Header'].str.replace('november', '')\n",
    "Resumes_df['Header']=Resumes_df['Header'].str.replace('december', '')\n",
    "Resumes_df['Header']=Resumes_df['Header'].str.replace('jan', '')\n",
    "Resumes_df['Header']=Resumes_df['Header'].str.replace('feb', '')\n",
    "Resumes_df['Header']=Resumes_df['Header'].str.replace('mar', '')\n",
    "Resumes_df['Header']=Resumes_df['Header'].str.replace('apr', '')\n",
    "Resumes_df['Header']=Resumes_df['Header'].str.replace('may', '')\n",
    "Resumes_df['Header']=Resumes_df['Header'].str.replace('jun', '')\n",
    "Resumes_df['Header']=Resumes_df['Header'].str.replace('jul', '')\n",
    "Resumes_df['Header']=Resumes_df['Header'].str.replace('aug', '')\n",
    "Resumes_df['Header']=Resumes_df['Header'].str.replace('sept', '')\n",
    "Resumes_df['Header']=Resumes_df['Header'].str.replace('oct', '')\n",
    "Resumes_df['Header']=Resumes_df['Header'].str.replace('nov', '')\n",
    "Resumes_df['Header']=Resumes_df['Header'].str.replace('dec', '')\n",
    "Resumes_df['Header']=Resumes_df['Header'].str.replace('ca', '')\n",
    "Resumes_df['Header']=Resumes_df['Header'].str.replace('at', '')\n",
    "Resumes_df['Header']=Resumes_df['Header'].str.replace('work', '')\n",
    "Resumes_df['Header']=Resumes_df['Header'].str.replace('business', '')\n",
    "Resumes_df['Header']=Resumes_df['Header'].str.replace('experience', '')\n",
    "Resumes_df['Header']=Resumes_df['Header'].str.replace('august', '')\n",
    "Resumes_df['Header']=Resumes_df['Header'].str.replace('new', '')\n",
    "Resumes_df['Header']=Resumes_df['Header'].str.replace('educ', '')\n",
    "Resumes_df['Header']=Resumes_df['Header'].str.replace('da', 'data')\n",
    "\n"
   ]
  },
  {
   "cell_type": "code",
   "execution_count": 107,
   "id": "c4a69fc6-3640-4ca8-832b-67d86a5062ab",
   "metadata": {},
   "outputs": [],
   "source": [
    "# cache stopwords first to reduce compute time\n",
    "cachedStopWords = stopwords.words(\"english\")\n",
    "\n",
    "# convert all text to lower case and separate into list\n",
    "Resumes_df['Header'] = Resumes_df['Header'].str.lower().str.split()\n",
    "\n",
    "# remove stopwords\n",
    "Resumes_df['Header'] = Resumes_df['Header'].apply(lambda x: ' '.join([item for item in x if item not in cachedStopWords]))"
   ]
  },
  {
   "cell_type": "markdown",
   "id": "fd4c7cc4-875b-48fa-9abc-efe2f50117ae",
   "metadata": {},
   "source": [
    "## Word Frequency"
   ]
  },
  {
   "cell_type": "code",
   "execution_count": 108,
   "id": "9223ed25-0339-48fe-9484-17f5d11af75c",
   "metadata": {},
   "outputs": [
    {
     "data": {
      "text/plain": [
       "[('data', 18270),\n",
       " ('analysis', 4519),\n",
       " ('learning', 3747),\n",
       " ('python', 3465),\n",
       " ('', 3332),\n",
       " ('science', 3096),\n",
       " ('sql', 2953),\n",
       " ('machine', 2799),\n",
       " ('university', 2795),\n",
       " ('skills', 2627),\n",
       " ('years', 2530),\n",
       " ('research', 2423),\n",
       " ('scientist', 2421),\n",
       " ('models', 2185),\n",
       " ('analytics', 2154),\n",
       " ('model', 2022),\n",
       " ('development', 1962),\n",
       " ('management', 1925),\n",
       " ('r', 1819),\n",
       " ('developed', 1778)]"
      ]
     },
     "execution_count": 108,
     "metadata": {},
     "output_type": "execute_result"
    }
   ],
   "source": [
    "# get wordcounts\n",
    "wordcount = Counter(' '.join(Resumes_df['Header']).split(' '))\n",
    "\n",
    "# limit wordcounts for visualization\n",
    "wordcount = wordcount.most_common(20)\n",
    "wordcount"
   ]
  },
  {
   "cell_type": "code",
   "execution_count": 109,
   "id": "4dcdf356-3b4d-4a9a-be32-3e23b17fc2be",
   "metadata": {},
   "outputs": [],
   "source": [
    "labels = [lbl for lbl, ct in wordcount]\n",
    "count = [ct for lbl, ct in wordcount]"
   ]
  },
  {
   "cell_type": "markdown",
   "id": "b3947141-aef2-460b-815f-8acaf05ee0af",
   "metadata": {},
   "source": [
    "## Word Term Frequency"
   ]
  },
  {
   "cell_type": "code",
   "execution_count": 110,
   "id": "ec64b5f9-201b-42d1-b0e9-525acf3d163c",
   "metadata": {},
   "outputs": [
    {
     "name": "stderr",
     "output_type": "stream",
     "text": [
      "No handles with labels found to put in legend.\n"
     ]
    },
    {
     "data": {
      "image/png": "[encoded data removed]",
      "text/plain": [
       "<Figure size 1440x864 with 1 Axes>"
      ]
     },
     "metadata": {
      "needs_background": "light"
     },
     "output_type": "display_data"
    }
   ],
   "source": [
    "fig = plt.figure(figsize=(20,12))\n",
    "ax = fig.add_subplot(111)\n",
    "\n",
    "colors = sns.color_palette(\"BrBG\", len(labels))\n",
    "\n",
    "y_pos = np.arange(len(labels))\n",
    "ax.barh(y_pos, count, align='center', color=colors, edgecolor=colors)\n",
    "\n",
    "plt.ylim(-1,20)\n",
    "\n",
    "plt.legend(loc=\"best\")\n",
    "plt.title('Word/Term Frequency')\n",
    "plt.xlabel('Word/Term Count')\n",
    "plt.yticks(y_pos, labels)\n",
    "plt.ylabel('Word/Term')\n",
    "plt.xticks(np.linspace(0,20000, 13))\n",
    "\n",
    "\n",
    "ax.spines[\"top\"].set_visible(False)  \n",
    "ax.spines[\"right\"].set_visible(False) \n",
    "ax.spines[\"bottom\"].set_visible(False) \n",
    "ax.spines[\"left\"].set_visible(False)\n",
    "\n",
    "plt.tight_layout()\n",
    "_ = plt.show()"
   ]
  },
  {
   "cell_type": "markdown",
   "id": "0de4703a-176b-4252-ae1c-2e672c5883d8",
   "metadata": {},
   "source": [
    "## Stemmed"
   ]
  },
  {
   "cell_type": "code",
   "execution_count": 111,
   "id": "4161d6db-9b7b-47fe-ae7d-2b1c88d59e0d",
   "metadata": {},
   "outputs": [],
   "source": [
    "from nltk.stem.lancaster import LancasterStemmer\n",
    "stemmer = LancasterStemmer()"
   ]
  },
  {
   "cell_type": "code",
   "execution_count": 112,
   "id": "f2b8863c-d4c9-499c-9e3e-7e5f93215d14",
   "metadata": {},
   "outputs": [],
   "source": [
    "Resumes_df['Header'] = Resumes_df['Header'].apply(lambda x: stemmer.stem(x))\n",
    "#df['stem'] = df['resume_stopped'].str.split(' ')"
   ]
  },
  {
   "cell_type": "code",
   "execution_count": 113,
   "id": "e4c9770b-3525-4336-b42b-c12b2185b3de",
   "metadata": {},
   "outputs": [
    {
     "data": {
      "text/plain": [
       "[('data', 18145),\n",
       " ('analysis', 4285),\n",
       " ('learning', 3693),\n",
       " ('python', 3465),\n",
       " ('', 3350),\n",
       " ('science', 3057),\n",
       " ('sql', 2953),\n",
       " ('machine', 2776),\n",
       " ('university', 2775),\n",
       " ('research', 2441),\n",
       " ('scientist', 2359),\n",
       " ('years', 2327),\n",
       " ('model', 2136),\n",
       " ('models', 2117),\n",
       " ('development', 1901),\n",
       " ('analytics', 1835),\n",
       " ('r', 1828),\n",
       " ('developed', 1765),\n",
       " ('project', 1691),\n",
       " ('management', 1678)]"
      ]
     },
     "execution_count": 113,
     "metadata": {},
     "output_type": "execute_result"
    }
   ],
   "source": [
    "# get wordcounts\n",
    "wordcount = Counter(' '.join(Resumes_df['Header']).split(' '))\n",
    "\n",
    "# limit wordcounts for visualization\n",
    "wordcount = wordcount.most_common(20)\n",
    "wordcount"
   ]
  },
  {
   "cell_type": "code",
   "execution_count": 114,
   "id": "a05f6159-82a9-4f97-9364-1f1aba171b87",
   "metadata": {},
   "outputs": [],
   "source": [
    "labels = [lbl for lbl, ct in wordcount]\n",
    "count = [ct for lbl, ct in wordcount]"
   ]
  },
  {
   "cell_type": "code",
   "execution_count": 115,
   "id": "155897d3-1c6b-4b7c-8820-10895f215533",
   "metadata": {},
   "outputs": [
    {
     "name": "stderr",
     "output_type": "stream",
     "text": [
      "No handles with labels found to put in legend.\n"
     ]
    },
    {
     "data": {
      "image/png": "[encoded data removed]",
      "text/plain": [
       "<Figure size 1440x1440 with 1 Axes>"
      ]
     },
     "metadata": {
      "needs_background": "light"
     },
     "output_type": "display_data"
    }
   ],
   "source": [
    "fig = plt.figure(figsize=(20,20))\n",
    "ax = fig.add_subplot(111)\n",
    "\n",
    "colors = sns.color_palette(\"BrBG\", len(labels))\n",
    "\n",
    "y_pos = np.arange(len(labels))\n",
    "ax.barh(y_pos, count, align='center', color=colors, edgecolor=colors)\n",
    "\n",
    "plt.ylim(-1,20)\n",
    "\n",
    "plt.legend(loc=\"best\")\n",
    "plt.title('Word/Term Frequency')\n",
    "plt.xlabel('Word/Term Count')\n",
    "plt.yticks(y_pos, labels)\n",
    "plt.ylabel('Word/Term')\n",
    "plt.xticks(np.linspace(0,18000, 13))\n",
    "\n",
    "ax.spines[\"top\"].set_visible(False)  \n",
    "ax.spines[\"right\"].set_visible(False) \n",
    "ax.spines[\"bottom\"].set_visible(False) \n",
    "ax.spines[\"left\"].set_visible(False)\n",
    "\n",
    "plt.tight_layout()\n",
    "_ = plt.show()"
   ]
  },
  {
   "cell_type": "code",
   "execution_count": 116,
   "id": "ea36096c-ea18-4311-87c1-051962e2bd4e",
   "metadata": {},
   "outputs": [
    {
     "data": {
      "text/plain": [
       "FreqDist({'': 3332, 'skil': 1226, 'edut': 1199, 'pres': 1070, 'python': 692, 'sql': 671, 'data scientist': 620, 'link': 527, 'tableau': 489, 'r': 485, ...})"
      ]
     },
     "execution_count": 116,
     "metadata": {},
     "output_type": "execute_result"
    }
   ],
   "source": [
    "fd = nltk.FreqDist(w.lower() for w in Resumes_df['Header'])\n",
    "#fd.plot(10)\n",
    "fd"
   ]
  },
  {
   "cell_type": "markdown",
   "id": "f4e385fb-9ce9-449b-9b43-56dce1a0a8fe",
   "metadata": {},
   "source": [
    "## Word Counts"
   ]
  },
  {
   "cell_type": "code",
   "execution_count": 117,
   "id": "f838adc3-dd9b-4a48-bd5e-7aec68d025e0",
   "metadata": {},
   "outputs": [
    {
     "data": {
      "text/plain": [
       "529533"
      ]
     },
     "execution_count": 117,
     "metadata": {},
     "output_type": "execute_result"
    }
   ],
   "source": [
    "text_amount = ' '.join(Resumes_df['Header'].tolist()).split()\n",
    "len(text_amount)"
   ]
  },
  {
   "cell_type": "code",
   "execution_count": 118,
   "id": "5eecdced-26d3-4a4b-a676-752daf592598",
   "metadata": {},
   "outputs": [],
   "source": [
    "def get_wordcount(text_list, min_ct=3, most_common=30, get_all=False):\n",
    "    '''\n",
    "    returns => most common\n",
    "    '''\n",
    "    # get wordcount counter object\n",
    "    word_count = Counter(text_list)\n",
    "\n",
    "    # remove words that occur min_ct times or less\n",
    "    word_count = Counter({k:v for k, v in word_count.items() if v >= min_ct})\n",
    "\n",
    "    if get_all:\n",
    "        # return all\n",
    "        word_count = word_count.items()\n",
    "    else:\n",
    "        # limit wordcounts for visualization\n",
    "        word_count = word_count.most_common(most_common)\n",
    "    \n",
    "    return word_count"
   ]
  },
  {
   "cell_type": "markdown",
   "id": "24e16560-342f-455c-af8e-3b4220270232",
   "metadata": {},
   "source": [
    "## Count Vectorizer"
   ]
  },
  {
   "cell_type": "code",
   "execution_count": 119,
   "id": "e63d83c1-0f7c-438b-91e1-5b487502b955",
   "metadata": {},
   "outputs": [],
   "source": [
    "n_samples = 2000\n",
    "n_features = 1000\n",
    "n_topics = 10\n",
    "n_top_words = 20"
   ]
  },
  {
   "cell_type": "code",
   "execution_count": 120,
   "id": "8f7d10df-7cc5-40f4-965b-af84e9b3715e",
   "metadata": {},
   "outputs": [],
   "source": [
    "# convert resume texts to a sparse matrix of token counts\n",
    "ct_vect = CountVectorizer(ngram_range=(1, 3), max_df=0.90, min_df=2, max_features=n_features, stop_words='english')\n",
    "ct_vect_prep = ct_vect.fit_transform(Resumes_df['Header'])"
   ]
  },
  {
   "cell_type": "markdown",
   "id": "eeaa2947-1201-4872-84dc-2cba59377d89",
   "metadata": {},
   "source": [
    "## TF-IDF"
   ]
  },
  {
   "cell_type": "code",
   "execution_count": 121,
   "id": "24f4f926-5f7c-4e22-8c4d-ff916de8278c",
   "metadata": {},
   "outputs": [
    {
     "data": {
      "text/plain": [
       "TfidfVectorizer(token_pattern='(?u)\\x08\\\\w\\\\w+\\x08')"
      ]
     },
     "execution_count": 121,
     "metadata": {},
     "output_type": "execute_result"
    }
   ],
   "source": [
    "TfidfVectorizer(input='content', encoding='utf-8', decode_error='strict', strip_accents=None, lowercase=True, preprocessor=None, tokenizer=None, analyzer='word', stop_words=None, token_pattern='(?u)\\b\\w\\w+\\b', ngram_range=(1, 1), max_df=1.0, min_df=1, max_features=None, vocabulary=None, binary=False, norm='l2', use_idf=True, smooth_idf=True, sublinear_tf=False)"
   ]
  },
  {
   "cell_type": "code",
   "execution_count": 122,
   "id": "82879b41-5e62-4d76-8ca5-1335978b99e2",
   "metadata": {},
   "outputs": [],
   "source": [
    "from sklearn.feature_extraction.text import TfidfVectorizer\n",
    "\n",
    "t_start = time()\n",
    "\n",
    "tfidf_vec = TfidfVectorizer(input='content', ngram_range=(1, 3), max_df=0.9, min_df=2, \n",
    "                max_features=n_features, norm='l2', use_idf=True, smooth_idf=True, sublinear_tf=False)\n",
    "\n",
    "tfidf_vec_prep = tfidf_vec.fit_transform(Resumes_df['Header'])"
   ]
  },
  {
   "cell_type": "code",
   "execution_count": 123,
   "id": "e9710747-3015-4f1d-a007-e9e1af056d3c",
   "metadata": {},
   "outputs": [],
   "source": [
    "lda_mdl = LatentDirichletAllocation(max_iter=5, random_state=0)"
   ]
  },
  {
   "cell_type": "code",
   "execution_count": null,
   "id": "b0e5297f-44b6-4452-9d19-f6e892fcd8a4",
   "metadata": {},
   "outputs": [],
   "source": [
    "lda_mdl.fit(tfidf_vec_prep)"
   ]
  },
  {
   "cell_type": "code",
   "execution_count": null,
   "id": "cd513bb7-c232-489d-b991-3e3f6fb0bd4d",
   "metadata": {},
   "outputs": [],
   "source": [
    "# get feature names (topics) from model\n",
    "feat_names = tfidf_vec.get_feature_names()\n",
    "\n",
    "print('Start of list: ' + ', '.join(feat_names[50:60]))\n",
    "print('End of list: ' + ', '.join(feat_names[-10:]))"
   ]
  },
  {
   "cell_type": "markdown",
   "id": "3091cf9a-4eea-4462-95e9-41c5a342bda6",
   "metadata": {},
   "source": [
    "# Top Words"
   ]
  },
  {
   "cell_type": "code",
   "execution_count": null,
   "id": "0a535681-da70-4afe-97f9-33017ed5c81a",
   "metadata": {},
   "outputs": [],
   "source": [
    "def print_top_words(model, feature_names, top_words):\n",
    "    for i, topic in enumerate(model.components_):\n",
    "        print(\"Topic {0}:\".format(i))\n",
    "        for wd in topic.argsort()[:-top_words - 1:-1]:\n",
    "            print('\\t{0}'.format(feature_names[wd]))\n",
    "    print()"
   ]
  },
  {
   "cell_type": "code",
   "execution_count": null,
   "id": "1d7bffcd-9686-442b-8f18-fe32ffcc4440",
   "metadata": {},
   "outputs": [],
   "source": [
    "\n",
    "print_top_words(lda_mdl, feat_names, 3)"
   ]
  },
  {
   "cell_type": "markdown",
   "id": "882109e9-0b16-4e38-af4a-438c450fac75",
   "metadata": {},
   "source": [
    "## Noun Phrases"
   ]
  },
  {
   "cell_type": "code",
   "execution_count": null,
   "id": "2f8e210f-7005-4dad-8595-8cdaf2a976f8",
   "metadata": {},
   "outputs": [],
   "source": [
    "nouns = lambda x: TextBlob(x).noun_phrases\n",
    "\n",
    "Resumes_df['Header'] = Resumes_df['Header']\n",
    "Resumes_df['Header'] = Resumes_df['Header'].apply(nouns)"
   ]
  },
  {
   "cell_type": "code",
   "execution_count": null,
   "id": "5e25ae3d-741a-4c64-b807-7ae69afd522a",
   "metadata": {},
   "outputs": [],
   "source": [
    "lst_to_str = lambda x: ' '.join(x)\n",
    "\n",
    "Resumes_df['Header']= Resumes_df['Header'].apply(lst_to_str)"
   ]
  },
  {
   "cell_type": "code",
   "execution_count": null,
   "id": "00096e36-0ba3-45ea-bf41-887c777b2974",
   "metadata": {},
   "outputs": [],
   "source": [
    "Resumes_df.to_pickle('df_stop_noun.pkl')\n",
    "Resumes_df = None"
   ]
  },
  {
   "cell_type": "code",
   "execution_count": null,
   "id": "083400a0-d6fc-4993-a4a9-32341cef54a4",
   "metadata": {},
   "outputs": [],
   "source": [
    "Resume_df = pd.read_pickle('df_stop_noun.pkl')\n"
   ]
  },
  {
   "cell_type": "markdown",
   "id": "74317b04-1df6-4112-b77a-de0883605df0",
   "metadata": {},
   "source": [
    "## Vectorize"
   ]
  },
  {
   "cell_type": "markdown",
   "id": "68d61592-86b5-4fd7-97be-50dbc1d51d5a",
   "metadata": {},
   "source": [
    "### Tokenization and stop word removal"
   ]
  },
  {
   "cell_type": "code",
   "execution_count": null,
   "id": "aeb0dd22-b7a8-421c-b10a-e0320f994963",
   "metadata": {},
   "outputs": [],
   "source": [
    "# remove common words and tokenize\n",
    "stoplist = set('for a of the and to in'.split())\n",
    "texts = [[word for word in resume.split()] for resume in resumes]\n",
    "\n",
    "# remove words that appear only once\n",
    "frequency = defaultdict(int)\n",
    "for text in texts:\n",
    "    for token in text:\n",
    "        frequency[token] += 1\n",
    "\n",
    "# remove words that occur less than n times\n",
    "texts = [[token for token in text if frequency[token] > 2] for text in texts]"
   ]
  },
  {
   "cell_type": "code",
   "execution_count": null,
   "id": "c8cb8fd7-2823-4caa-a7bc-c65979abbae5",
   "metadata": {},
   "outputs": [],
   "source": [
    "dictionary = corpora.Dictionary(texts)\n",
    "\n",
    "dictionary.save('resume_token.dict')\n",
    "print(dictionary)"
   ]
  },
  {
   "cell_type": "markdown",
   "id": "e84cbde2-7b96-4cda-9754-c7ba5c5fd148",
   "metadata": {},
   "source": [
    "## Token Resumes to Vectors"
   ]
  },
  {
   "cell_type": "code",
   "execution_count": null,
   "id": "e1622d8c-551a-498c-abc8-cb427cf84603",
   "metadata": {},
   "outputs": [],
   "source": [
    "corpus = [dictionary.doc2bow(text) for text in texts]\n",
    "corpora.MmCorpus.serialize('resume_token.mm', corpus)  \n",
    "# store to disk, for later use\n",
    "for c in corpus[:1]:\n",
    "    print(c)"
   ]
  },
  {
   "cell_type": "markdown",
   "id": "4efb50e3-6db7-4849-9b32-303fb550acdb",
   "metadata": {},
   "source": [
    "## TF-IDF Transformation"
   ]
  },
  {
   "cell_type": "code",
   "execution_count": null,
   "id": "c84bd5e8-da12-4760-be93-5ccf0afad9a0",
   "metadata": {},
   "outputs": [],
   "source": [
    "tfidf_mdl = models.TfidfModel(corpus) "
   ]
  },
  {
   "cell_type": "code",
   "execution_count": null,
   "id": "8711b20a-e73a-4a30-b7b3-846ed81434d6",
   "metadata": {},
   "outputs": [],
   "source": [
    "# transform vectors\n",
    "corpus_tfidf = tfidf_mdl[corpus]"
   ]
  },
  {
   "cell_type": "code",
   "execution_count": null,
   "id": "fbdefeb6-ecd0-4fd3-8315-17037f53b347",
   "metadata": {},
   "outputs": [],
   "source": [
    "from sklearn.feature_extraction.text import TfidfVectorizer\n",
    "n_features = 1000\n",
    "\n",
    "tfidf_vec = TfidfVectorizer(input='content', ngram_range=(1, 3), max_df=0.9, min_df=2, \n",
    "                max_features=n_features, norm='l2', use_idf=True, smooth_idf=True, sublinear_tf=False)\n",
    "\n",
    "tfidf_vec_prep = tfidf_vec.fit_transform(resumes)"
   ]
  },
  {
   "cell_type": "code",
   "execution_count": null,
   "id": "5ff728fb-d45f-4353-b3dd-844534cc560f",
   "metadata": {},
   "outputs": [],
   "source": [
    "from sklearn.cluster import KMeans\n",
    "from sklearn import metrics\n",
    "\n",
    "km = KMeans(n_clusters=8, init='k-means++', max_iter=100, n_init=1)\n",
    "\n",
    "km_mdl = km.fit_predict(tfidf_vec_prep)\n"
   ]
  },
  {
   "cell_type": "markdown",
   "id": "3f44b275-20b9-4865-abb3-135f1769cdb9",
   "metadata": {},
   "source": [
    "## Cosine Similarity"
   ]
  },
  {
   "cell_type": "code",
   "execution_count": null,
   "id": "a014133c-c8ce-4eba-83ae-723cfc5e400e",
   "metadata": {},
   "outputs": [],
   "source": [
    "Resume_df= pd.read_pickle('df_stop_noun.pkl')"
   ]
  },
  {
   "cell_type": "code",
   "execution_count": null,
   "id": "9142db9a-0f80-45ba-af4b-ae8d0fd00525",
   "metadata": {},
   "outputs": [],
   "source": [
    "Resume_df['Header'].dropna(inplace=True)"
   ]
  },
  {
   "cell_type": "code",
   "execution_count": null,
   "id": "b0cf855e-7417-41be-a9e0-81df5ebd503b",
   "metadata": {},
   "outputs": [],
   "source": [
    "resumes = Resume_df['Header'].tolist()\n",
    "while '' in resumes:\n",
    "    resumes.remove('')\n"
   ]
  },
  {
   "cell_type": "code",
   "execution_count": null,
   "id": "8b880027-42e2-4d5a-b1c0-ef3dcd4a771d",
   "metadata": {},
   "outputs": [],
   "source": [
    "index = similarities.MatrixSimilarity(corpus_tfidf)"
   ]
  },
  {
   "cell_type": "code",
   "execution_count": null,
   "id": "56ec11d4-fe09-4bea-b1a2-e2b2b75aa4d3",
   "metadata": {},
   "outputs": [],
   "source": [
    "index.save('resume_stopped.index')\n",
    "index = similarities.MatrixSimilarity.load('resume_stopped.index')"
   ]
  },
  {
   "cell_type": "code",
   "execution_count": null,
   "id": "616d34b2-35ef-4fd5-851f-eb84a80b250e",
   "metadata": {},
   "outputs": [],
   "source": [
    "sims = index[corpus] # perform a similarity query against the corpus\n",
    "\n",
    "# (document_number, document_similarity)\n",
    "sim_lst = list(enumerate(sims))"
   ]
  },
  {
   "cell_type": "code",
   "execution_count": null,
   "id": "1d764a44-2349-4246-98a4-cd81bcb8c771",
   "metadata": {},
   "outputs": [],
   "source": [
    "sim_lst.sort(key=operator.itemgetter(1)).all()"
   ]
  },
  {
   "cell_type": "code",
   "execution_count": null,
   "id": "8f8cbc0a-275b-470d-bbfc-0bcef3920e9e",
   "metadata": {},
   "outputs": [],
   "source": [
    "# comparing resumes within resumes\n",
    "sim_lst[1:10]"
   ]
  },
  {
   "cell_type": "code",
   "execution_count": null,
   "id": "c11e3483-3790-4794-a364-59848ae6359a",
   "metadata": {},
   "outputs": [],
   "source": [
    "' '.join(texts[0])"
   ]
  },
  {
   "cell_type": "markdown",
   "id": "359aba46-db11-4c96-a419-c63ae7453273",
   "metadata": {
    "tags": []
   },
   "source": [
    "## Future Improvements"
   ]
  },
  {
   "cell_type": "markdown",
   "id": "91f9b2be-96f9-4b3a-8573-dbf19645d96b",
   "metadata": {},
   "source": [
    "Programs that make this process very user friendly and effective already exist such as jobscan.co. Regardless I would still like to try my hand at making a program where a user can upload their resume and have it suggest changes based on an interested job listing.\n"
   ]
  },
  {
   "cell_type": "code",
   "execution_count": null,
   "id": "be64ba7a-f47b-4a99-b201-30c5878917f8",
   "metadata": {},
   "outputs": [],
   "source": []
  }
 ],
 "metadata": {
  "kernelspec": {
   "display_name": "Python 3 (ipykernel)",
   "language": "python",
   "name": "python3"
  },
  "language_info": {
   "codemirror_mode": {
    "name": "ipython",
    "version": 3
   },
   "file_extension": ".py",
   "mimetype": "text/x-python",
   "name": "python",
   "nbconvert_exporter": "python",
   "pygments_lexer": "ipython3",
   "version": "3.8.8"
  }
 },
 "nbformat": 4,
 "nbformat_minor": 5
}
